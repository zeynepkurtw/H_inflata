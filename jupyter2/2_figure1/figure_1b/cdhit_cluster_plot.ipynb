{
 "cells": [
  {
   "cell_type": "code",
   "execution_count": 3,
   "outputs": [],
   "source": [
    "import pandas as pd\n",
    "from Bio import SeqIO\n",
    "import glob\n",
    "\n",
    "\n",
    "\"read files from directory\"\n",
    "path = '/Users/zeyku390/PycharmProjects/H.inflata/output/2_cdhit/*.fasta'\n",
    "\n",
    "def read_files(path):\n",
    "    list_files = glob.glob(path)\n",
    "    dic = {}\n",
    "    for element in list_files:\n",
    "        i = element.split(\".fasta\")[0]\n",
    "        i = i.split(\"_\")[-1]\n",
    "        dic[i] = element\n",
    "    return dic\n",
    "\n",
    "\"\"\" get id lists from cdhit fasta\n",
    "    return as dataframe\"\"\"\n",
    "def get_id(fasta):\n",
    "    id= []\n",
    "    annot = []\n",
    "    with open(fasta, \"r\") as fasta_in:\n",
    "        for record in SeqIO.parse(fasta_in, \"fasta\"):\n",
    "            id.append(record.id)\n",
    "            annot.append(record.description)\n",
    "    return pd.DataFrame(id), pd.DataFrame(annot)\n",
    "\n",
    "\"pass id lists to a dataframe\"\n",
    "dic_id={}\n",
    "dic_ann= {}\n",
    "for key, values in read_files(path).items():\n",
    "    dic_id[key] , dic_ann[key]= get_id(values)\n",
    "\n",
    "def anti_join(x, y):\n",
    "    \"\"\"Return rows in x which are not present in y\"\"\"\n",
    "    ans = pd.merge(left=x, right=y, how='left', indicator=True)\n",
    "    ans = ans.loc[ans._merge == 'left_only', :].drop(columns='_merge')\n",
    "    #ans= ans.reset_index()\n",
    "    return ans\n",
    "\n",
    "dic_hypo={}\n",
    "dic_func={}\n",
    "for key, values in dic_ann.items():\n",
    "        dic_hypo[key]= values[values[0].str.contains(\"hypothetical|unknown\", case=False)]\n",
    "        dic_func[key]= anti_join(values, dic_hypo[key])\n",
    "\n",
    "\n",
    "\"concatanate dic elements in to a dataframe\"\n",
    "df_id=pd.concat(dic_id, axis=1)\n",
    "df_id.columns= df_id.columns.droplevel(1) #remove multindex columns\n",
    "\n",
    "df_hypo=pd.concat(dic_hypo, axis=1)\n",
    "df_hypo.columns= df_hypo.columns.droplevel(1) #remove multindex columns\n",
    "\n",
    "df_func=pd.concat(dic_func, axis=1)\n",
    "df_func.columns= df_func.columns.droplevel(1) #remove multindex columns\n",
    "\n",
    "\n",
    "\n",
    "\"get value counts from dataframe\"\n",
    "def get_counts(df):\n",
    "    df_melt=df.melt( var_name='cols', value_name='vals').dropna()\n",
    "    df_count=df_melt[\"cols\"].value_counts().reset_index()\n",
    "    return df_count"
   ],
   "metadata": {
    "collapsed": false,
    "pycharm": {
     "name": "#%%\n"
    }
   }
  },
  {
   "cell_type": "markdown",
   "source": [
    "# bar plot hypo and functional count"
   ],
   "metadata": {
    "collapsed": false,
    "pycharm": {
     "name": "#%% md\n"
    }
   }
  },
  {
   "cell_type": "code",
   "execution_count": 4,
   "outputs": [
    {
     "data": {
      "text/plain": "       index  cols     vals\n0    1.cdhit  hypo  43697.0\n1   09.cdhit  hypo  24844.0\n2   08.cdhit  hypo  20382.0\n3   07.cdhit  hypo  17837.0\n12   1.cdhit  func  22107.0\n13  09.cdhit  func  10317.0\n14  08.cdhit  func   8214.0\n15  07.cdhit  func   7077.0",
      "text/html": "<div>\n<style scoped>\n    .dataframe tbody tr th:only-of-type {\n        vertical-align: middle;\n    }\n\n    .dataframe tbody tr th {\n        vertical-align: top;\n    }\n\n    .dataframe thead th {\n        text-align: right;\n    }\n</style>\n<table border=\"1\" class=\"dataframe\">\n  <thead>\n    <tr style=\"text-align: right;\">\n      <th></th>\n      <th>index</th>\n      <th>cols</th>\n      <th>vals</th>\n    </tr>\n  </thead>\n  <tbody>\n    <tr>\n      <th>0</th>\n      <td>1.cdhit</td>\n      <td>hypo</td>\n      <td>43697.0</td>\n    </tr>\n    <tr>\n      <th>1</th>\n      <td>09.cdhit</td>\n      <td>hypo</td>\n      <td>24844.0</td>\n    </tr>\n    <tr>\n      <th>2</th>\n      <td>08.cdhit</td>\n      <td>hypo</td>\n      <td>20382.0</td>\n    </tr>\n    <tr>\n      <th>3</th>\n      <td>07.cdhit</td>\n      <td>hypo</td>\n      <td>17837.0</td>\n    </tr>\n    <tr>\n      <th>12</th>\n      <td>1.cdhit</td>\n      <td>func</td>\n      <td>22107.0</td>\n    </tr>\n    <tr>\n      <th>13</th>\n      <td>09.cdhit</td>\n      <td>func</td>\n      <td>10317.0</td>\n    </tr>\n    <tr>\n      <th>14</th>\n      <td>08.cdhit</td>\n      <td>func</td>\n      <td>8214.0</td>\n    </tr>\n    <tr>\n      <th>15</th>\n      <td>07.cdhit</td>\n      <td>func</td>\n      <td>7077.0</td>\n    </tr>\n  </tbody>\n</table>\n</div>"
     },
     "execution_count": 4,
     "metadata": {},
     "output_type": "execute_result"
    }
   ],
   "source": [
    "id_groups = get_counts(df_id).rename(columns={\"cols\": \"id\"})\n",
    "hypo_groups = get_counts(df_hypo).rename(columns={\"cols\": \"hypo\"})\n",
    "func_groups = get_counts(df_func).rename(columns={\"cols\": \"func\"})\n",
    "df_plot = pd.concat([hypo_groups, func_groups], axis=0)\n",
    "df_plot_melt= df_plot.melt(\"index\", var_name='cols', value_name='vals').dropna()\n",
    "df_plot_melt"
   ],
   "metadata": {
    "collapsed": false,
    "pycharm": {
     "name": "#%%\n"
    }
   }
  },
  {
   "cell_type": "code",
   "execution_count": 7,
   "outputs": [
    {
     "data": {
      "text/plain": "<Figure size 432x288 with 1 Axes>",
      "image/png": "[encoded data removed]"
     },
     "metadata": {},
     "output_type": "display_data"
    }
   ],
   "source": [
    "import seaborn as sns\n",
    "\n",
    "sns.set_style(\"whitegrid\", {'axes.grid': False})\n",
    "pal = sns.dark_palette(\"#69d\", n_colors=4, reverse=True)\n",
    "ax = sns.barplot(x='index', y='vals', hue='cols', data=df_plot_melt, palette=pal)\n",
    "ax.legend().set_title(\"\")\n",
    "ax.set_xlabel('seq identity thresholds')\n",
    "ax.set_ylabel('number of clusters')\n",
    "\n",
    "plot = ax.get_figure()\n",
    "plot.savefig('/Users/zeyku390/PycharmProjects/H.inflata/plots/figure1b.svg', format=\"svg\")\n",
    "#ax.set_xticklabels(ax.get_xticklabels(), rotation=90)"
   ],
   "metadata": {
    "collapsed": false,
    "pycharm": {
     "name": "#%%\n"
    }
   }
  },
  {
   "cell_type": "code",
   "execution_count": 8,
   "outputs": [
    {
     "data": {
      "text/plain": "<Figure size 432x288 with 1 Axes>",
      "image/png": "[encoded data removed]"
     },
     "metadata": {},
     "output_type": "display_data"
    }
   ],
   "source": [
    "ax = sns.lineplot(x='index', y='vals', data=func_groups.melt(\"index\", var_name='cols', value_name='vals').dropna())"
   ],
   "metadata": {
    "collapsed": false,
    "pycharm": {
     "name": "#%%\n"
    }
   }
  },
  {
   "cell_type": "code",
   "execution_count": null,
   "outputs": [],
   "source": [],
   "metadata": {
    "collapsed": false,
    "pycharm": {
     "name": "#%%\n"
    }
   }
  }
 ],
 "metadata": {
  "kernelspec": {
   "display_name": "Python 3",
   "language": "python",
   "name": "python3"
  },
  "language_info": {
   "codemirror_mode": {
    "name": "ipython",
    "version": 2
   },
   "file_extension": ".py",
   "mimetype": "text/x-python",
   "name": "python",
   "nbconvert_exporter": "python",
   "pygments_lexer": "ipython2",
   "version": "2.7.6"
  }
 },
 "nbformat": 4,
 "nbformat_minor": 0
}