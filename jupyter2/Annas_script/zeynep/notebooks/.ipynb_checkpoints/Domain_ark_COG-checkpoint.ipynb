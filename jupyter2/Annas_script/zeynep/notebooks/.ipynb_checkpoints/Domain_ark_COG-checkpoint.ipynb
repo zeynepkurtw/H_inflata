{
 "cells": [
  {
   "cell_type": "markdown",
   "id": "27f31fd4",
   "metadata": {},
   "source": [
    "# Domain architectures of COG categories\n",
    "\n",
    "__aim:__ investigate the largest expanded funcional category for Hexameta (freeliving) and compare to the parasitic species proteins. Could these proteins be involved in going from parasite to free living? What are the largest gains for parasites? adaptation to the host?\n",
    "\n",
    "__quesion:__\n",
    "What do the protein architecture looks like? how do they comppare between species? Could this be related to lifestyle?\n",
    "\n",
    "__input:__ interproscan files from Zeynep \\\n",
    "__output:__ doman architecture figures and schematic domain architecture tables. "
   ]
  },
  {
   "cell_type": "markdown",
   "id": "feb4a162",
   "metadata": {},
   "source": [
    "### 1. Investigate the domain architectures for the O category (largest expansion for Hexameta compared to the others)"
   ]
  },
  {
   "cell_type": "code",
   "execution_count": null,
   "id": "16645a76",
   "metadata": {},
   "outputs": [],
   "source": [
    "# display the raw interproscan file\n",
    "d = pd.read_csv('../data/interproscan.tsv', sep='\\t')\n",
    "d"
   ]
  },
  {
   "cell_type": "code",
   "execution_count": null,
   "id": "8ebdbc4b",
   "metadata": {},
   "outputs": [],
   "source": [
    "# extract the protein ids and make a species pid file\n",
    "'protein ids' 'specie'\n",
    "# merge the interproscan files"
   ]
  },
  {
   "cell_type": "code",
   "execution_count": null,
   "id": "4c738500",
   "metadata": {},
   "outputs": [],
   "source": [
    "# create the schematic table\n",
    "!python ../scripts/schematic_arc_table.py --interpro_path '../data/interproscan/' --out_file_path '../results/schematic_table.tsv' --analysis 'Pfam' "
   ]
  },
  {
   "cell_type": "code",
   "execution_count": null,
   "id": "810e26ff",
   "metadata": {},
   "outputs": [],
   "source": [
    "d = pd.read_csv('../results/.tsv', sep='\\t')\n",
    "d"
   ]
  },
  {
   "cell_type": "code",
   "execution_count": null,
   "id": "ba7a5e54",
   "metadata": {},
   "outputs": [],
   "source": [
    "# create the domain architecture figure\n",
    "!python ../scripts/domain_arc_figure.py \n",
    "--out_file '../results/schematic_figure.png' \n",
    "--interproscan '../data/interproscan/' \n",
    "--analysis 'Pfam' \n",
    "--general_domains 'Yes' \n",
    "--groups_protein_ids ''\n",
    "\n"
   ]
  }
 ],
 "metadata": {
  "kernelspec": {
   "display_name": "Python 3",
   "language": "python",
   "name": "python3"
  },
  "language_info": {
   "codemirror_mode": {
    "name": "ipython",
    "version": 3
   },
   "file_extension": ".py",
   "mimetype": "text/x-python",
   "name": "python",
   "nbconvert_exporter": "python",
   "pygments_lexer": "ipython3",
   "version": "3.8.12"
  }
 },
 "nbformat": 4,
 "nbformat_minor": 5
}
