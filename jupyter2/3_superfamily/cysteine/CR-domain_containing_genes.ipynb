{
 "cells": [
  {
   "cell_type": "markdown",
   "source": [
    "## Cysteine annoatations"
   ],
   "metadata": {
    "collapsed": false,
    "pycharm": {
     "name": "#%% md\n"
    }
   }
  },
  {
   "cell_type": "code",
   "execution_count": 73,
   "outputs": [],
   "source": [
    "import pandas as pd\n",
    "import glob\n",
    "\n",
    "\"read annotations\"\n",
    "path = '/Users/zeyku390/PycharmProjects/H.inflata/jupyter/data/*.csv'\n",
    "list_files = glob.glob(path)\n",
    "\n",
    "#get species name from the filenames\n",
    "sp_dic = {}\n",
    "for element in list_files:\n",
    "    i = element.split(\"_annot\")[0]\n",
    "    i = i.split(\"/\")[-1]\n",
    "    sp_dic[i] = element\n",
    "\n",
    "dic_annot= {}\n",
    "for key, value in sp_dic.items():\n",
    "    dic_annot[key] = pd.read_csv(value, sep=\"\\t\", header=\"infer\")\n",
    "    dic_annot[key][\"desc\"] = dic_annot[key].apply(lambda x: x[\"desc\"].replace(x[\"id\"], \"\").strip(), axis=1)\n",
    "\n",
    "\n",
    "def get_gene(dic):\n",
    "    dic_gene ={}\n",
    "    for key, values in dic.items():\n",
    "        dic_gene[key]= values[values[\"desc\"].str.contains(\"High cysteine|VSP\", case=False)]\n",
    "    return dic_gene\n"
   ],
   "metadata": {
    "collapsed": false,
    "pycharm": {
     "name": "#%%\n"
    }
   }
  },
  {
   "cell_type": "code",
   "execution_count": 74,
   "outputs": [],
   "source": [
    "dic_cr= get_gene(dic_annot)"
   ],
   "metadata": {
    "collapsed": false,
    "pycharm": {
     "name": "#%%\n"
    }
   }
  },
  {
   "cell_type": "code",
   "execution_count": 76,
   "outputs": [
    {
     "data": {
      "text/plain": "                   id                                     desc\n20      GL50803_60030  High cysteine membrane protein EGF-like\n21    GL50803_d113304                                      VSP\n22     GL50803_d15250   High cysteine membrane protein Group 6\n37     GL50803_113836  High cysteine membrane protein EGF-like\n48      GL50803_15250   High cysteine membrane protein Group 6\n...               ...                                      ...\n4905    GL50803_87628                                      VSP\n4918     GL50803_7748           High cysteine membrane protein\n4955    GL50803_38901                             VSP with INR\n4961    GL50803_50443                    High cysteine protein\n4962    GL50803_50444                    High cysteine protein\n\n[252 rows x 2 columns]",
      "text/html": "<div>\n<style scoped>\n    .dataframe tbody tr th:only-of-type {\n        vertical-align: middle;\n    }\n\n    .dataframe tbody tr th {\n        vertical-align: top;\n    }\n\n    .dataframe thead th {\n        text-align: right;\n    }\n</style>\n<table border=\"1\" class=\"dataframe\">\n  <thead>\n    <tr style=\"text-align: right;\">\n      <th></th>\n      <th>id</th>\n      <th>desc</th>\n    </tr>\n  </thead>\n  <tbody>\n    <tr>\n      <th>20</th>\n      <td>GL50803_60030</td>\n      <td>High cysteine membrane protein EGF-like</td>\n    </tr>\n    <tr>\n      <th>21</th>\n      <td>GL50803_d113304</td>\n      <td>VSP</td>\n    </tr>\n    <tr>\n      <th>22</th>\n      <td>GL50803_d15250</td>\n      <td>High cysteine membrane protein Group 6</td>\n    </tr>\n    <tr>\n      <th>37</th>\n      <td>GL50803_113836</td>\n      <td>High cysteine membrane protein EGF-like</td>\n    </tr>\n    <tr>\n      <th>48</th>\n      <td>GL50803_15250</td>\n      <td>High cysteine membrane protein Group 6</td>\n    </tr>\n    <tr>\n      <th>...</th>\n      <td>...</td>\n      <td>...</td>\n    </tr>\n    <tr>\n      <th>4905</th>\n      <td>GL50803_87628</td>\n      <td>VSP</td>\n    </tr>\n    <tr>\n      <th>4918</th>\n      <td>GL50803_7748</td>\n      <td>High cysteine membrane protein</td>\n    </tr>\n    <tr>\n      <th>4955</th>\n      <td>GL50803_38901</td>\n      <td>VSP with INR</td>\n    </tr>\n    <tr>\n      <th>4961</th>\n      <td>GL50803_50443</td>\n      <td>High cysteine protein</td>\n    </tr>\n    <tr>\n      <th>4962</th>\n      <td>GL50803_50444</td>\n      <td>High cysteine protein</td>\n    </tr>\n  </tbody>\n</table>\n<p>252 rows × 2 columns</p>\n</div>"
     },
     "execution_count": 76,
     "metadata": {},
     "output_type": "execute_result"
    }
   ],
   "source": [
    "dic_cr[\"wb\"]"
   ],
   "metadata": {
    "collapsed": false,
    "pycharm": {
     "name": "#%%\n"
    }
   }
  },
  {
   "cell_type": "markdown",
   "source": [
    "## Cysteine IPR"
   ],
   "metadata": {
    "collapsed": false,
    "pycharm": {
     "name": "#%% md\n"
    }
   }
  },
  {
   "cell_type": "code",
   "execution_count": 38,
   "outputs": [],
   "source": [
    "import glob\n",
    "import pandas as pd\n",
    "\n",
    "\"Read interproscan output\"\n",
    "path = '/Users/zeyku390/PycharmProjects/H.inflata/resource/3_interproscan/*.tsv'\n",
    "list_files = glob.glob(path)\n",
    "\n",
    "#get species name from the filenames\n",
    "sp_dic = {}\n",
    "for element in list_files:\n",
    "    i = element.split(\".\")[1]\n",
    "    i = i.split(\"/\")[-1]\n",
    "    sp_dic[i] = element\n",
    "\n",
    "#create dictinary for each species and its interproscan result\n",
    "dic = {}\n",
    "for key, value in sp_dic.items():\n",
    "    dic[key] = ipr = pd.read_csv(value, header=None, sep=\"\\t\", names=list(range(0, 15)))  #fills empty columns with NaN\n",
    "\n"
   ],
   "metadata": {
    "collapsed": false,
    "pycharm": {
     "name": "#%%\n"
    }
   }
  },
  {
   "cell_type": "code",
   "execution_count": 86,
   "outputs": [],
   "source": [
    "pd.merge(dic_cr[\"wb\"], dic[\"wb\"], right_on=0, left_on=\"id\").drop_duplicates().drop(columns=[\"id\", \"desc\"]).to_csv(\"/Users/zeyku390/PycharmProjects/H.inflata/jupyter/data/wb_cr_interpro.csv\", sep=\"\\t\", header=\"infer\", index=False)"
   ],
   "metadata": {
    "collapsed": false,
    "pycharm": {
     "name": "#%%\n"
    }
   }
  },
  {
   "cell_type": "markdown",
   "source": [
    "## G. intestinalis cysteine rich domain annoted proteins"
   ],
   "metadata": {
    "collapsed": false,
    "pycharm": {
     "name": "#%% md\n"
    }
   }
  },
  {
   "cell_type": "code",
   "execution_count": 79,
   "outputs": [
    {
     "data": {
      "text/plain": "                 id                                     desc                0  \\\n0     GL50803_60030  High cysteine membrane protein EGF-like    GL50803_60030   \n34  GL50803_d113304                                      VSP  GL50803_d113304   \n38  GL50803_d113304                                      VSP  GL50803_d113304   \n39  GL50803_d113304                                      VSP  GL50803_d113304   \n42  GL50803_d113304                                      VSP  GL50803_d113304   \n\n           11                                                 12  \n0   IPR000742                                    EGF-like domain  \n34  IPR006212                                  Furin-like repeat  \n38  IPR009030  Growth factor receptor cysteine-rich domain su...  \n39  IPR000742                                    EGF-like domain  \n42  IPR005127           Giardia variant-specific surface protein  ",
      "text/html": "<div>\n<style scoped>\n    .dataframe tbody tr th:only-of-type {\n        vertical-align: middle;\n    }\n\n    .dataframe tbody tr th {\n        vertical-align: top;\n    }\n\n    .dataframe thead th {\n        text-align: right;\n    }\n</style>\n<table border=\"1\" class=\"dataframe\">\n  <thead>\n    <tr style=\"text-align: right;\">\n      <th></th>\n      <th>id</th>\n      <th>desc</th>\n      <th>0</th>\n      <th>11</th>\n      <th>12</th>\n    </tr>\n  </thead>\n  <tbody>\n    <tr>\n      <th>0</th>\n      <td>GL50803_60030</td>\n      <td>High cysteine membrane protein EGF-like</td>\n      <td>GL50803_60030</td>\n      <td>IPR000742</td>\n      <td>EGF-like domain</td>\n    </tr>\n    <tr>\n      <th>34</th>\n      <td>GL50803_d113304</td>\n      <td>VSP</td>\n      <td>GL50803_d113304</td>\n      <td>IPR006212</td>\n      <td>Furin-like repeat</td>\n    </tr>\n    <tr>\n      <th>38</th>\n      <td>GL50803_d113304</td>\n      <td>VSP</td>\n      <td>GL50803_d113304</td>\n      <td>IPR009030</td>\n      <td>Growth factor receptor cysteine-rich domain su...</td>\n    </tr>\n    <tr>\n      <th>39</th>\n      <td>GL50803_d113304</td>\n      <td>VSP</td>\n      <td>GL50803_d113304</td>\n      <td>IPR000742</td>\n      <td>EGF-like domain</td>\n    </tr>\n    <tr>\n      <th>42</th>\n      <td>GL50803_d113304</td>\n      <td>VSP</td>\n      <td>GL50803_d113304</td>\n      <td>IPR005127</td>\n      <td>Giardia variant-specific surface protein</td>\n    </tr>\n  </tbody>\n</table>\n</div>"
     },
     "execution_count": 79,
     "metadata": {},
     "output_type": "execute_result"
    }
   ],
   "source": [
    "df_wb= dic[\"wb\"][[0,11,12]].dropna()\n",
    "df=pd.merge(dic_cr[\"wb\"], df_wb, right_on=0, left_on=\"id\").drop_duplicates()\n",
    "df.head()"
   ],
   "metadata": {
    "collapsed": false,
    "pycharm": {
     "name": "#%%\n"
    }
   }
  },
  {
   "cell_type": "code",
   "execution_count": 80,
   "outputs": [
    {
     "name": "stdout",
     "output_type": "stream",
     "text": [
      "intersection genes btw annot and interpro = 243\n"
     ]
    }
   ],
   "source": [
    "\"\"\" 252 genes are annotated as CR however interpro missing any kind of IPR annoations from 9 genes\"\"\"\n",
    "print(\"intersection genes btw annot and interpro =\",len(df[0].value_counts()))"
   ],
   "metadata": {
    "collapsed": false,
    "pycharm": {
     "name": "#%%\n"
    }
   }
  },
  {
   "cell_type": "code",
   "execution_count": 81,
   "outputs": [
    {
     "data": {
      "text/plain": "11         12                                                     \nIPR009030  Growth factor receptor cysteine-rich domain superfamily    212\nIPR006212  Furin-like repeat                                          196\nIPR005127  Giardia variant-specific surface protein                   187\nIPR000742  EGF-like domain                                            144\nIPR002049  Laminin EGF domain                                          13\nIPR015215  BmKX domain                                                  5\nIPR011641  Tyrosine-protein kinase ephrin type A/B receptor-like        4\nIPR001368  TNFR/NGFR cysteine-rich region                               3\nIPR013111  EGF-like domain, extracellular                               3\nIPR001577  Peptidase M8, leishmanolysin                                 2\nIPR036280  Multiheme cytochrome superfamily                             2\nIPR001881  EGF-like calcium-binding domain                              1\nIPR002165  Plexin repeat                                                1\nIPR006150  Cysteine-rich repeat                                         1\nIPR016201  PSI domain                                                   1\ndtype: int64"
     },
     "execution_count": 81,
     "metadata": {},
     "output_type": "execute_result"
    }
   ],
   "source": [
    "df.groupby([11,12]).size().sort_values(ascending=False)"
   ],
   "metadata": {
    "collapsed": false,
    "pycharm": {
     "name": "#%%\n"
    }
   }
  },
  {
   "cell_type": "code",
   "execution_count": 83,
   "outputs": [
    {
     "data": {
      "text/plain": "0               11         12                                                     \nGL50803_101010  IPR005127  Giardia variant-specific surface protein                   1\nGL50803_17476   IPR005127  Giardia variant-specific surface protein                   1\nGL50803_26981   IPR009030  Growth factor receptor cysteine-rich domain superfamily    1\nGL50803_27717   IPR000742  EGF-like domain                                            1\n                IPR005127  Giardia variant-specific surface protein                   1\n                                                                                     ..\nGL50803_115831  IPR005127  Giardia variant-specific surface protein                   1\n                IPR006212  Furin-like repeat                                          1\n                IPR009030  Growth factor receptor cysteine-rich domain superfamily    1\nGL50803_116477  IPR000742  EGF-like domain                                            1\nGL50803_d50229  IPR009030  Growth factor receptor cysteine-rich domain superfamily    1\nLength: 775, dtype: int64"
     },
     "execution_count": 83,
     "metadata": {},
     "output_type": "execute_result"
    }
   ],
   "source": [
    "gb=df.groupby([0,11,12]).size().sort_values(ascending=False)\n",
    "gb"
   ],
   "metadata": {
    "collapsed": false,
    "pycharm": {
     "name": "#%%\n"
    }
   }
  },
  {
   "cell_type": "code",
   "execution_count": 115,
   "outputs": [
    {
     "data": {
      "text/plain": "0\nGL50803_16318     5\nGL50803_114180    5\nGL50803_113319    5\nGL50803_114617    5\nGL50803_113416    5\n                 ..\nGL50803_60030     1\nGL50803_7748      1\nGL50803_7946      1\nGL50803_8595      1\nGL50803_26894     1\nLength: 243, dtype: int64"
     },
     "execution_count": 115,
     "metadata": {},
     "output_type": "execute_result"
    }
   ],
   "source": [
    "df.groupby(0).size().sort_values(ascending=False)"
   ],
   "metadata": {
    "collapsed": false,
    "pycharm": {
     "name": "#%%\n"
    }
   }
  },
  {
   "cell_type": "code",
   "execution_count": 116,
   "outputs": [
    {
     "data": {
      "text/plain": "                id desc              0         11  \\\n128  GL50803_26894  VSP  GL50803_26894  IPR005127   \n\n                                           12  \n128  Giardia variant-specific surface protein  ",
      "text/html": "<div>\n<style scoped>\n    .dataframe tbody tr th:only-of-type {\n        vertical-align: middle;\n    }\n\n    .dataframe tbody tr th {\n        vertical-align: top;\n    }\n\n    .dataframe thead th {\n        text-align: right;\n    }\n</style>\n<table border=\"1\" class=\"dataframe\">\n  <thead>\n    <tr style=\"text-align: right;\">\n      <th></th>\n      <th>id</th>\n      <th>desc</th>\n      <th>0</th>\n      <th>11</th>\n      <th>12</th>\n    </tr>\n  </thead>\n  <tbody>\n    <tr>\n      <th>128</th>\n      <td>GL50803_26894</td>\n      <td>VSP</td>\n      <td>GL50803_26894</td>\n      <td>IPR005127</td>\n      <td>Giardia variant-specific surface protein</td>\n    </tr>\n  </tbody>\n</table>\n</div>"
     },
     "execution_count": 116,
     "metadata": {},
     "output_type": "execute_result"
    }
   ],
   "source": [
    "df.groupby(0).get_group(\"GL50803_26894\")"
   ],
   "metadata": {
    "collapsed": false,
    "pycharm": {
     "name": "#%%\n"
    }
   }
  },
  {
   "cell_type": "code",
   "execution_count": null,
   "outputs": [],
   "source": [],
   "metadata": {
    "collapsed": false,
    "pycharm": {
     "name": "#%%\n"
    }
   }
  }
 ],
 "metadata": {
  "kernelspec": {
   "display_name": "Python 3",
   "language": "python",
   "name": "python3"
  },
  "language_info": {
   "codemirror_mode": {
    "name": "ipython",
    "version": 2
   },
   "file_extension": ".py",
   "mimetype": "text/x-python",
   "name": "python",
   "nbconvert_exporter": "python",
   "pygments_lexer": "ipython2",
   "version": "2.7.6"
  }
 },
 "nbformat": 4,
 "nbformat_minor": 0
}