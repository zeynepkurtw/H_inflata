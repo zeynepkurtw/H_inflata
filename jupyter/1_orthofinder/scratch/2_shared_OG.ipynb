{
 "cells": [
  {
   "cell_type": "code",
   "execution_count": null,
   "metadata": {
    "collapsed": true,
    "pycharm": {
     "name": "#%%\n"
    }
   },
   "outputs": [],
   "source": []
  },
  {
   "cell_type": "markdown",
   "source": [
    "# Extract shared OG"
   ],
   "metadata": {
    "collapsed": false,
    "pycharm": {
     "name": "#%% md\n"
    }
   }
  },
  {
   "cell_type": "markdown",
   "source": [],
   "metadata": {
    "collapsed": false,
    "pycharm": {
     "name": "#%% md\n"
    }
   }
  },
  {
   "cell_type": "code",
   "execution_count": 7,
   "outputs": [
    {
     "data": {
      "text/plain": "      Orthogroup   HIN  trepo  spiro  wb  muris  kbiala  carpe  Total\n0      OG0000000  1927      0      1   0      0       0      0   1928\n1      OG0000001   804      0      0   0      0       0      0    804\n2      OG0000002   780      0      0   0      0       0      0    780\n3      OG0000003   659      0      0   0      0       0      0    659\n4      OG0000004   511      1      0   0      0       0      0    512\n...          ...   ...    ...    ...  ..    ...     ...    ...    ...\n15300  OG0015300     0      0      0   0      0       0      2      2\n15301  OG0015301     0      0      0   0      0       0      2      2\n15302  OG0015302     0      0      0   0      0       0      2      2\n15303  OG0015303     0      0      0   0      0       0      2      2\n15304  OG0015304     0      0      0   0      0       0      2      2\n\n[15305 rows x 9 columns]",
      "text/html": "<div>\n<style scoped>\n    .dataframe tbody tr th:only-of-type {\n        vertical-align: middle;\n    }\n\n    .dataframe tbody tr th {\n        vertical-align: top;\n    }\n\n    .dataframe thead th {\n        text-align: right;\n    }\n</style>\n<table border=\"1\" class=\"dataframe\">\n  <thead>\n    <tr style=\"text-align: right;\">\n      <th></th>\n      <th>Orthogroup</th>\n      <th>HIN</th>\n      <th>trepo</th>\n      <th>spiro</th>\n      <th>wb</th>\n      <th>muris</th>\n      <th>kbiala</th>\n      <th>carpe</th>\n      <th>Total</th>\n    </tr>\n  </thead>\n  <tbody>\n    <tr>\n      <th>0</th>\n      <td>OG0000000</td>\n      <td>1927</td>\n      <td>0</td>\n      <td>1</td>\n      <td>0</td>\n      <td>0</td>\n      <td>0</td>\n      <td>0</td>\n      <td>1928</td>\n    </tr>\n    <tr>\n      <th>1</th>\n      <td>OG0000001</td>\n      <td>804</td>\n      <td>0</td>\n      <td>0</td>\n      <td>0</td>\n      <td>0</td>\n      <td>0</td>\n      <td>0</td>\n      <td>804</td>\n    </tr>\n    <tr>\n      <th>2</th>\n      <td>OG0000002</td>\n      <td>780</td>\n      <td>0</td>\n      <td>0</td>\n      <td>0</td>\n      <td>0</td>\n      <td>0</td>\n      <td>0</td>\n      <td>780</td>\n    </tr>\n    <tr>\n      <th>3</th>\n      <td>OG0000003</td>\n      <td>659</td>\n      <td>0</td>\n      <td>0</td>\n      <td>0</td>\n      <td>0</td>\n      <td>0</td>\n      <td>0</td>\n      <td>659</td>\n    </tr>\n    <tr>\n      <th>4</th>\n      <td>OG0000004</td>\n      <td>511</td>\n      <td>1</td>\n      <td>0</td>\n      <td>0</td>\n      <td>0</td>\n      <td>0</td>\n      <td>0</td>\n      <td>512</td>\n    </tr>\n    <tr>\n      <th>...</th>\n      <td>...</td>\n      <td>...</td>\n      <td>...</td>\n      <td>...</td>\n      <td>...</td>\n      <td>...</td>\n      <td>...</td>\n      <td>...</td>\n      <td>...</td>\n    </tr>\n    <tr>\n      <th>15300</th>\n      <td>OG0015300</td>\n      <td>0</td>\n      <td>0</td>\n      <td>0</td>\n      <td>0</td>\n      <td>0</td>\n      <td>0</td>\n      <td>2</td>\n      <td>2</td>\n    </tr>\n    <tr>\n      <th>15301</th>\n      <td>OG0015301</td>\n      <td>0</td>\n      <td>0</td>\n      <td>0</td>\n      <td>0</td>\n      <td>0</td>\n      <td>0</td>\n      <td>2</td>\n      <td>2</td>\n    </tr>\n    <tr>\n      <th>15302</th>\n      <td>OG0015302</td>\n      <td>0</td>\n      <td>0</td>\n      <td>0</td>\n      <td>0</td>\n      <td>0</td>\n      <td>0</td>\n      <td>2</td>\n      <td>2</td>\n    </tr>\n    <tr>\n      <th>15303</th>\n      <td>OG0015303</td>\n      <td>0</td>\n      <td>0</td>\n      <td>0</td>\n      <td>0</td>\n      <td>0</td>\n      <td>0</td>\n      <td>2</td>\n      <td>2</td>\n    </tr>\n    <tr>\n      <th>15304</th>\n      <td>OG0015304</td>\n      <td>0</td>\n      <td>0</td>\n      <td>0</td>\n      <td>0</td>\n      <td>0</td>\n      <td>0</td>\n      <td>2</td>\n      <td>2</td>\n    </tr>\n  </tbody>\n</table>\n<p>15305 rows × 9 columns</p>\n</div>"
     },
     "execution_count": 7,
     "metadata": {},
     "output_type": "execute_result"
    }
   ],
   "source": [
    "df=pd.read_csv( \"/Users/zeyku390/PycharmProjects/H.inflata/output/1_orthofinder/Results_Oct10_7sp/Orthogroups/Orthogroups.GeneCount.tsv\", sep=\"\\t\", header='infer')\n",
    "df=df[[\"Orthogroup\",\"HIN\", \"trepo\", \"spiro\", \"wb\", \"muris\", \"kbiala\", \"carpe\", \"Total\"]]\n",
    "df"
   ],
   "metadata": {
    "collapsed": false,
    "pycharm": {
     "name": "#%%\n"
    }
   }
  },
  {
   "cell_type": "code",
   "execution_count": 8,
   "outputs": [
    {
     "name": "stdout",
     "output_type": "stream",
     "text": [
      "Total HIN genes = 9220\n",
      "Total trepo genes = 2639\n",
      "Total spiro genes = 2426\n",
      "Total wb genes = 2101\n",
      "Total muris genes = 2143\n"
     ]
    },
    {
     "data": {
      "text/plain": "     Orthogroup  HIN  trepo  spiro   wb  muris  kbiala  carpe  Total\n5     OG0000005   18     13     17  159    216       9     12    444\n19    OG0000019  228     13     11    7      2       6      9    276\n39    OG0000039  133     16      6    4      6      10      3    178\n42    OG0000042   51     18     19   14     14      26     23    165\n57    OG0000057   91     12      6    5      7       8      5    134\n...         ...  ...    ...    ...  ...    ...     ...    ...    ...\n4963  OG0004963    2      1      1    1      1       0      0      6\n4964  OG0004964    2      1      1    1      1       0      0      6\n4967  OG0004967    1      1      2    1      1       0      0      6\n6008  OG0006008    1      1      1    1      1       0      0      5\n6077  OG0006077    1      1      1    1      1       0      0      5\n\n[1662 rows x 9 columns]",
      "text/html": "<div>\n<style scoped>\n    .dataframe tbody tr th:only-of-type {\n        vertical-align: middle;\n    }\n\n    .dataframe tbody tr th {\n        vertical-align: top;\n    }\n\n    .dataframe thead th {\n        text-align: right;\n    }\n</style>\n<table border=\"1\" class=\"dataframe\">\n  <thead>\n    <tr style=\"text-align: right;\">\n      <th></th>\n      <th>Orthogroup</th>\n      <th>HIN</th>\n      <th>trepo</th>\n      <th>spiro</th>\n      <th>wb</th>\n      <th>muris</th>\n      <th>kbiala</th>\n      <th>carpe</th>\n      <th>Total</th>\n    </tr>\n  </thead>\n  <tbody>\n    <tr>\n      <th>5</th>\n      <td>OG0000005</td>\n      <td>18</td>\n      <td>13</td>\n      <td>17</td>\n      <td>159</td>\n      <td>216</td>\n      <td>9</td>\n      <td>12</td>\n      <td>444</td>\n    </tr>\n    <tr>\n      <th>19</th>\n      <td>OG0000019</td>\n      <td>228</td>\n      <td>13</td>\n      <td>11</td>\n      <td>7</td>\n      <td>2</td>\n      <td>6</td>\n      <td>9</td>\n      <td>276</td>\n    </tr>\n    <tr>\n      <th>39</th>\n      <td>OG0000039</td>\n      <td>133</td>\n      <td>16</td>\n      <td>6</td>\n      <td>4</td>\n      <td>6</td>\n      <td>10</td>\n      <td>3</td>\n      <td>178</td>\n    </tr>\n    <tr>\n      <th>42</th>\n      <td>OG0000042</td>\n      <td>51</td>\n      <td>18</td>\n      <td>19</td>\n      <td>14</td>\n      <td>14</td>\n      <td>26</td>\n      <td>23</td>\n      <td>165</td>\n    </tr>\n    <tr>\n      <th>57</th>\n      <td>OG0000057</td>\n      <td>91</td>\n      <td>12</td>\n      <td>6</td>\n      <td>5</td>\n      <td>7</td>\n      <td>8</td>\n      <td>5</td>\n      <td>134</td>\n    </tr>\n    <tr>\n      <th>...</th>\n      <td>...</td>\n      <td>...</td>\n      <td>...</td>\n      <td>...</td>\n      <td>...</td>\n      <td>...</td>\n      <td>...</td>\n      <td>...</td>\n      <td>...</td>\n    </tr>\n    <tr>\n      <th>4963</th>\n      <td>OG0004963</td>\n      <td>2</td>\n      <td>1</td>\n      <td>1</td>\n      <td>1</td>\n      <td>1</td>\n      <td>0</td>\n      <td>0</td>\n      <td>6</td>\n    </tr>\n    <tr>\n      <th>4964</th>\n      <td>OG0004964</td>\n      <td>2</td>\n      <td>1</td>\n      <td>1</td>\n      <td>1</td>\n      <td>1</td>\n      <td>0</td>\n      <td>0</td>\n      <td>6</td>\n    </tr>\n    <tr>\n      <th>4967</th>\n      <td>OG0004967</td>\n      <td>1</td>\n      <td>1</td>\n      <td>2</td>\n      <td>1</td>\n      <td>1</td>\n      <td>0</td>\n      <td>0</td>\n      <td>6</td>\n    </tr>\n    <tr>\n      <th>6008</th>\n      <td>OG0006008</td>\n      <td>1</td>\n      <td>1</td>\n      <td>1</td>\n      <td>1</td>\n      <td>1</td>\n      <td>0</td>\n      <td>0</td>\n      <td>5</td>\n    </tr>\n    <tr>\n      <th>6077</th>\n      <td>OG0006077</td>\n      <td>1</td>\n      <td>1</td>\n      <td>1</td>\n      <td>1</td>\n      <td>1</td>\n      <td>0</td>\n      <td>0</td>\n      <td>5</td>\n    </tr>\n  </tbody>\n</table>\n<p>1662 rows × 9 columns</p>\n</div>"
     },
     "execution_count": 8,
     "metadata": {},
     "output_type": "execute_result"
    }
   ],
   "source": [
    "\"OG shared by all diplomonads\"\n",
    "\n",
    "print(\"Total HIN genes =\", df[(df.iloc[:,[1,2,3,4,5]] >=1).all(1)][\"HIN\"].sum())\n",
    "print(\"Total trepo genes =\", df[(df.iloc[:,[1,2,3,4,5]] >=1).all(1)][\"trepo\"].sum())\n",
    "print(\"Total spiro genes =\", df[(df.iloc[:,[1,2,3,4,5]] >=1).all(1)][\"spiro\"].sum())\n",
    "print(\"Total wb genes =\", df[(df.iloc[:,[1,2,3,4,5]] >=1).all(1)][\"wb\"].sum())\n",
    "print(\"Total muris genes =\", df[(df.iloc[:,[1,2,3,4,5]] >=1).all(1)][\"muris\"].sum())\n",
    "\n",
    "\n",
    "og_diplo=df[(df.iloc[:,[1,2,3,4,5]] >=1).all(1)]\n",
    "og_diplo"
   ],
   "metadata": {
    "collapsed": false,
    "pycharm": {
     "name": "#%%\n"
    }
   }
  },
  {
   "cell_type": "code",
   "execution_count": 9,
   "outputs": [
    {
     "name": "stdout",
     "output_type": "stream",
     "text": [
      "Total HIN genes = 6439\n",
      "Total trepo genes = 1781\n",
      "Total spiro genes = 1646\n",
      "Total wb genes = 1443\n",
      "Total muris genes = 1500\n",
      "Total kbiala genes = 1897\n",
      "Total carpe genes = 1811\n"
     ]
    },
    {
     "data": {
      "text/plain": "     Orthogroup  HIN  trepo  spiro   wb  muris  kbiala  carpe  Total\n5     OG0000005   18     13     17  159    216       9     12    444\n19    OG0000019  228     13     11    7      2       6      9    276\n39    OG0000039  133     16      6    4      6      10      3    178\n42    OG0000042   51     18     19   14     14      26     23    165\n57    OG0000057   91     12      6    5      7       8      5    134\n...         ...  ...    ...    ...  ...    ...     ...    ...    ...\n3606  OG0003606    2      1      1    1      1       1      1      8\n3623  OG0003623    2      1      1    1      1       1      1      8\n3875  OG0003875    1      1      1    1      1       1      1      7\n3877  OG0003877    1      1      1    1      1       1      1      7\n3879  OG0003879    1      1      1    1      1       1      1      7\n\n[1081 rows x 9 columns]",
      "text/html": "<div>\n<style scoped>\n    .dataframe tbody tr th:only-of-type {\n        vertical-align: middle;\n    }\n\n    .dataframe tbody tr th {\n        vertical-align: top;\n    }\n\n    .dataframe thead th {\n        text-align: right;\n    }\n</style>\n<table border=\"1\" class=\"dataframe\">\n  <thead>\n    <tr style=\"text-align: right;\">\n      <th></th>\n      <th>Orthogroup</th>\n      <th>HIN</th>\n      <th>trepo</th>\n      <th>spiro</th>\n      <th>wb</th>\n      <th>muris</th>\n      <th>kbiala</th>\n      <th>carpe</th>\n      <th>Total</th>\n    </tr>\n  </thead>\n  <tbody>\n    <tr>\n      <th>5</th>\n      <td>OG0000005</td>\n      <td>18</td>\n      <td>13</td>\n      <td>17</td>\n      <td>159</td>\n      <td>216</td>\n      <td>9</td>\n      <td>12</td>\n      <td>444</td>\n    </tr>\n    <tr>\n      <th>19</th>\n      <td>OG0000019</td>\n      <td>228</td>\n      <td>13</td>\n      <td>11</td>\n      <td>7</td>\n      <td>2</td>\n      <td>6</td>\n      <td>9</td>\n      <td>276</td>\n    </tr>\n    <tr>\n      <th>39</th>\n      <td>OG0000039</td>\n      <td>133</td>\n      <td>16</td>\n      <td>6</td>\n      <td>4</td>\n      <td>6</td>\n      <td>10</td>\n      <td>3</td>\n      <td>178</td>\n    </tr>\n    <tr>\n      <th>42</th>\n      <td>OG0000042</td>\n      <td>51</td>\n      <td>18</td>\n      <td>19</td>\n      <td>14</td>\n      <td>14</td>\n      <td>26</td>\n      <td>23</td>\n      <td>165</td>\n    </tr>\n    <tr>\n      <th>57</th>\n      <td>OG0000057</td>\n      <td>91</td>\n      <td>12</td>\n      <td>6</td>\n      <td>5</td>\n      <td>7</td>\n      <td>8</td>\n      <td>5</td>\n      <td>134</td>\n    </tr>\n    <tr>\n      <th>...</th>\n      <td>...</td>\n      <td>...</td>\n      <td>...</td>\n      <td>...</td>\n      <td>...</td>\n      <td>...</td>\n      <td>...</td>\n      <td>...</td>\n      <td>...</td>\n    </tr>\n    <tr>\n      <th>3606</th>\n      <td>OG0003606</td>\n      <td>2</td>\n      <td>1</td>\n      <td>1</td>\n      <td>1</td>\n      <td>1</td>\n      <td>1</td>\n      <td>1</td>\n      <td>8</td>\n    </tr>\n    <tr>\n      <th>3623</th>\n      <td>OG0003623</td>\n      <td>2</td>\n      <td>1</td>\n      <td>1</td>\n      <td>1</td>\n      <td>1</td>\n      <td>1</td>\n      <td>1</td>\n      <td>8</td>\n    </tr>\n    <tr>\n      <th>3875</th>\n      <td>OG0003875</td>\n      <td>1</td>\n      <td>1</td>\n      <td>1</td>\n      <td>1</td>\n      <td>1</td>\n      <td>1</td>\n      <td>1</td>\n      <td>7</td>\n    </tr>\n    <tr>\n      <th>3877</th>\n      <td>OG0003877</td>\n      <td>1</td>\n      <td>1</td>\n      <td>1</td>\n      <td>1</td>\n      <td>1</td>\n      <td>1</td>\n      <td>1</td>\n      <td>7</td>\n    </tr>\n    <tr>\n      <th>3879</th>\n      <td>OG0003879</td>\n      <td>1</td>\n      <td>1</td>\n      <td>1</td>\n      <td>1</td>\n      <td>1</td>\n      <td>1</td>\n      <td>1</td>\n      <td>7</td>\n    </tr>\n  </tbody>\n</table>\n<p>1081 rows × 9 columns</p>\n</div>"
     },
     "execution_count": 9,
     "metadata": {},
     "output_type": "execute_result"
    }
   ],
   "source": [
    "\"OG shared by all diplomoands and kbiala & carpe\"\n",
    "\n",
    "print(\"Total HIN genes =\", df[(df.iloc[:,[1,2,3,4,5,6,7]] >=1).all(1)][\"HIN\"].sum())\n",
    "print(\"Total trepo genes =\", df[(df.iloc[:,[1,2,3,4,5,6,7]] >=1).all(1)][\"trepo\"].sum())\n",
    "print(\"Total spiro genes =\", df[(df.iloc[:,[1,2,3,4,5,6,7]] >=1).all(1)][\"spiro\"].sum())\n",
    "print(\"Total wb genes =\", df[(df.iloc[:,[1,2,3,4,5,6,7]] >=1).all(1)][\"wb\"].sum())\n",
    "print(\"Total muris genes =\", df[(df.iloc[:,[1,2,3,4,5,6,7]] >=1).all(1)][\"muris\"].sum())\n",
    "print(\"Total kbiala genes =\", df[(df.iloc[:,[1,2,3,4,5,6,7]] >=1).all(1)][\"kbiala\"].sum())\n",
    "print(\"Total carpe genes =\", df[(df.iloc[:,[1,2,3,4,5,6,7]] >=1).all(1)][\"carpe\"].sum())\n",
    "\n",
    "og_all_sp=df[(df.iloc[:,[1,2,3,4,5,6,7]] >=1).all(1)]\n",
    "og_all_sp"
   ],
   "metadata": {
    "collapsed": false,
    "pycharm": {
     "name": "#%%\n"
    }
   }
  },
  {
   "cell_type": "code",
   "execution_count": 10,
   "outputs": [
    {
     "name": "stdout",
     "output_type": "stream",
     "text": [
      "Total trepo genes = 5179\n",
      "Total HIN genes = 19905\n"
     ]
    },
    {
     "data": {
      "text/plain": "      Orthogroup  HIN  trepo  spiro   wb  muris  kbiala  carpe  Total\n4      OG0000004  511      1      0    0      0       0      0    512\n5      OG0000005   18     13     17  159    216       9     12    444\n19     OG0000019  228     13     11    7      2       6      9    276\n23     OG0000023  251      1      0    0      0       0      0    252\n24     OG0000024  186      7      0    0      0      52      2    247\n...          ...  ...    ...    ...  ...    ...     ...    ...    ...\n11566  OG0011566    1      1      0    0      0       0      0      2\n11954  OG0011954    1      1      0    0      0       0      0      2\n12005  OG0012005    1      1      0    0      0       0      0      2\n12038  OG0012038    1      1      0    0      0       0      0      2\n12102  OG0012102    1      1      0    0      0       0      0      2\n\n[3344 rows x 9 columns]",
      "text/html": "<div>\n<style scoped>\n    .dataframe tbody tr th:only-of-type {\n        vertical-align: middle;\n    }\n\n    .dataframe tbody tr th {\n        vertical-align: top;\n    }\n\n    .dataframe thead th {\n        text-align: right;\n    }\n</style>\n<table border=\"1\" class=\"dataframe\">\n  <thead>\n    <tr style=\"text-align: right;\">\n      <th></th>\n      <th>Orthogroup</th>\n      <th>HIN</th>\n      <th>trepo</th>\n      <th>spiro</th>\n      <th>wb</th>\n      <th>muris</th>\n      <th>kbiala</th>\n      <th>carpe</th>\n      <th>Total</th>\n    </tr>\n  </thead>\n  <tbody>\n    <tr>\n      <th>4</th>\n      <td>OG0000004</td>\n      <td>511</td>\n      <td>1</td>\n      <td>0</td>\n      <td>0</td>\n      <td>0</td>\n      <td>0</td>\n      <td>0</td>\n      <td>512</td>\n    </tr>\n    <tr>\n      <th>5</th>\n      <td>OG0000005</td>\n      <td>18</td>\n      <td>13</td>\n      <td>17</td>\n      <td>159</td>\n      <td>216</td>\n      <td>9</td>\n      <td>12</td>\n      <td>444</td>\n    </tr>\n    <tr>\n      <th>19</th>\n      <td>OG0000019</td>\n      <td>228</td>\n      <td>13</td>\n      <td>11</td>\n      <td>7</td>\n      <td>2</td>\n      <td>6</td>\n      <td>9</td>\n      <td>276</td>\n    </tr>\n    <tr>\n      <th>23</th>\n      <td>OG0000023</td>\n      <td>251</td>\n      <td>1</td>\n      <td>0</td>\n      <td>0</td>\n      <td>0</td>\n      <td>0</td>\n      <td>0</td>\n      <td>252</td>\n    </tr>\n    <tr>\n      <th>24</th>\n      <td>OG0000024</td>\n      <td>186</td>\n      <td>7</td>\n      <td>0</td>\n      <td>0</td>\n      <td>0</td>\n      <td>52</td>\n      <td>2</td>\n      <td>247</td>\n    </tr>\n    <tr>\n      <th>...</th>\n      <td>...</td>\n      <td>...</td>\n      <td>...</td>\n      <td>...</td>\n      <td>...</td>\n      <td>...</td>\n      <td>...</td>\n      <td>...</td>\n      <td>...</td>\n    </tr>\n    <tr>\n      <th>11566</th>\n      <td>OG0011566</td>\n      <td>1</td>\n      <td>1</td>\n      <td>0</td>\n      <td>0</td>\n      <td>0</td>\n      <td>0</td>\n      <td>0</td>\n      <td>2</td>\n    </tr>\n    <tr>\n      <th>11954</th>\n      <td>OG0011954</td>\n      <td>1</td>\n      <td>1</td>\n      <td>0</td>\n      <td>0</td>\n      <td>0</td>\n      <td>0</td>\n      <td>0</td>\n      <td>2</td>\n    </tr>\n    <tr>\n      <th>12005</th>\n      <td>OG0012005</td>\n      <td>1</td>\n      <td>1</td>\n      <td>0</td>\n      <td>0</td>\n      <td>0</td>\n      <td>0</td>\n      <td>0</td>\n      <td>2</td>\n    </tr>\n    <tr>\n      <th>12038</th>\n      <td>OG0012038</td>\n      <td>1</td>\n      <td>1</td>\n      <td>0</td>\n      <td>0</td>\n      <td>0</td>\n      <td>0</td>\n      <td>0</td>\n      <td>2</td>\n    </tr>\n    <tr>\n      <th>12102</th>\n      <td>OG0012102</td>\n      <td>1</td>\n      <td>1</td>\n      <td>0</td>\n      <td>0</td>\n      <td>0</td>\n      <td>0</td>\n      <td>0</td>\n      <td>2</td>\n    </tr>\n  </tbody>\n</table>\n<p>3344 rows × 9 columns</p>\n</div>"
     },
     "execution_count": 10,
     "metadata": {},
     "output_type": "execute_result"
    }
   ],
   "source": [
    "\"OG shared by HIN and trepo\"\n",
    "\n",
    "print(\"Total trepo genes =\", df[(df.iloc[:,[1,2]] >=1).all(1)][\"trepo\"].sum())\n",
    "print(\"Total HIN genes =\", df[(df.iloc[:,[1,2]] >=1).all(1)][\"HIN\"].sum())\n",
    "\n",
    "og_hin_trepo=df[(df.iloc[:,[1,2]] >=1).all(1)]\n",
    "og_hin_trepo"
   ],
   "metadata": {
    "collapsed": false,
    "pycharm": {
     "name": "#%%\n"
    }
   }
  },
  {
   "cell_type": "code",
   "execution_count": 11,
   "outputs": [
    {
     "name": "stdout",
     "output_type": "stream",
     "text": [
      "Total HIN genes = 8100\n",
      "Total trepo genes = 2268\n",
      "Total kbiala genes = 2307\n",
      "Total carpe genes = 2091\n"
     ]
    },
    {
     "data": {
      "text/plain": "     Orthogroup  HIN  trepo  spiro   wb  muris  kbiala  carpe  Total\n5     OG0000005   18     13     17  159    216       9     12    444\n19    OG0000019  228     13     11    7      2       6      9    276\n24    OG0000024  186      7      0    0      0      52      2    247\n39    OG0000039  133     16      6    4      6      10      3    178\n42    OG0000042   51     18     19   14     14      26     23    165\n...         ...  ...    ...    ...  ...    ...     ...    ...    ...\n4663  OG0004663    3      1      0    0      0       1      1      6\n4935  OG0004935    2      1      1    0      0       1      1      6\n4956  OG0004956    2      1      0    0      0       1      2      6\n5177  OG0005177    2      1      0    0      0       1      1      5\n6081  OG0006081    1      2      0    0      0       1      1      5\n\n[1278 rows x 9 columns]",
      "text/html": "<div>\n<style scoped>\n    .dataframe tbody tr th:only-of-type {\n        vertical-align: middle;\n    }\n\n    .dataframe tbody tr th {\n        vertical-align: top;\n    }\n\n    .dataframe thead th {\n        text-align: right;\n    }\n</style>\n<table border=\"1\" class=\"dataframe\">\n  <thead>\n    <tr style=\"text-align: right;\">\n      <th></th>\n      <th>Orthogroup</th>\n      <th>HIN</th>\n      <th>trepo</th>\n      <th>spiro</th>\n      <th>wb</th>\n      <th>muris</th>\n      <th>kbiala</th>\n      <th>carpe</th>\n      <th>Total</th>\n    </tr>\n  </thead>\n  <tbody>\n    <tr>\n      <th>5</th>\n      <td>OG0000005</td>\n      <td>18</td>\n      <td>13</td>\n      <td>17</td>\n      <td>159</td>\n      <td>216</td>\n      <td>9</td>\n      <td>12</td>\n      <td>444</td>\n    </tr>\n    <tr>\n      <th>19</th>\n      <td>OG0000019</td>\n      <td>228</td>\n      <td>13</td>\n      <td>11</td>\n      <td>7</td>\n      <td>2</td>\n      <td>6</td>\n      <td>9</td>\n      <td>276</td>\n    </tr>\n    <tr>\n      <th>24</th>\n      <td>OG0000024</td>\n      <td>186</td>\n      <td>7</td>\n      <td>0</td>\n      <td>0</td>\n      <td>0</td>\n      <td>52</td>\n      <td>2</td>\n      <td>247</td>\n    </tr>\n    <tr>\n      <th>39</th>\n      <td>OG0000039</td>\n      <td>133</td>\n      <td>16</td>\n      <td>6</td>\n      <td>4</td>\n      <td>6</td>\n      <td>10</td>\n      <td>3</td>\n      <td>178</td>\n    </tr>\n    <tr>\n      <th>42</th>\n      <td>OG0000042</td>\n      <td>51</td>\n      <td>18</td>\n      <td>19</td>\n      <td>14</td>\n      <td>14</td>\n      <td>26</td>\n      <td>23</td>\n      <td>165</td>\n    </tr>\n    <tr>\n      <th>...</th>\n      <td>...</td>\n      <td>...</td>\n      <td>...</td>\n      <td>...</td>\n      <td>...</td>\n      <td>...</td>\n      <td>...</td>\n      <td>...</td>\n      <td>...</td>\n    </tr>\n    <tr>\n      <th>4663</th>\n      <td>OG0004663</td>\n      <td>3</td>\n      <td>1</td>\n      <td>0</td>\n      <td>0</td>\n      <td>0</td>\n      <td>1</td>\n      <td>1</td>\n      <td>6</td>\n    </tr>\n    <tr>\n      <th>4935</th>\n      <td>OG0004935</td>\n      <td>2</td>\n      <td>1</td>\n      <td>1</td>\n      <td>0</td>\n      <td>0</td>\n      <td>1</td>\n      <td>1</td>\n      <td>6</td>\n    </tr>\n    <tr>\n      <th>4956</th>\n      <td>OG0004956</td>\n      <td>2</td>\n      <td>1</td>\n      <td>0</td>\n      <td>0</td>\n      <td>0</td>\n      <td>1</td>\n      <td>2</td>\n      <td>6</td>\n    </tr>\n    <tr>\n      <th>5177</th>\n      <td>OG0005177</td>\n      <td>2</td>\n      <td>1</td>\n      <td>0</td>\n      <td>0</td>\n      <td>0</td>\n      <td>1</td>\n      <td>1</td>\n      <td>5</td>\n    </tr>\n    <tr>\n      <th>6081</th>\n      <td>OG0006081</td>\n      <td>1</td>\n      <td>2</td>\n      <td>0</td>\n      <td>0</td>\n      <td>0</td>\n      <td>1</td>\n      <td>1</td>\n      <td>5</td>\n    </tr>\n  </tbody>\n</table>\n<p>1278 rows × 9 columns</p>\n</div>"
     },
     "execution_count": 11,
     "metadata": {},
     "output_type": "execute_result"
    }
   ],
   "source": [
    "\"OG shared by Free-livings HIN, trepo, kbiala, carpe\"\n",
    "\n",
    "print(\"Total HIN genes =\", df[(df.iloc[:,[1,2,6,7]] >=1).all(1)][\"HIN\"].sum())\n",
    "print(\"Total trepo genes =\", df[(df.iloc[:,[1,2,6,7]] >=1).all(1)][\"trepo\"].sum())\n",
    "print(\"Total kbiala genes =\", df[(df.iloc[:,[1,2,6,7]] >=1).all(1)][\"kbiala\"].sum())\n",
    "print(\"Total carpe genes =\", df[(df.iloc[:,[1,2,6,7]] >=1).all(1)][\"carpe\"].sum())\n",
    "\n",
    "og_fl=df[(df.iloc[:,[1,2,6,7]] >=1).all(1)]\n",
    "og_fl"
   ],
   "metadata": {
    "collapsed": false,
    "pycharm": {
     "name": "#%%\n"
    }
   }
  },
  {
   "cell_type": "markdown",
   "source": [
    "# Extract genes from OG"
   ],
   "metadata": {
    "collapsed": false,
    "pycharm": {
     "name": "#%% md\n"
    }
   }
  },
  {
   "cell_type": "code",
   "execution_count": 5,
   "outputs": [
    {
     "data": {
      "text/plain": "            0             1           2           3           4     \\\n0      OG0000000    HIN_000001  HIN_000235  HIN_000306  HIN_000352   \n1      OG0000001    HIN_000385  HIN_000552  HIN_000598  HIN_000601   \n2      OG0000002    HIN_000061  HIN_000190  HIN_000209  HIN_000233   \n3      OG0000003    HIN_000155  HIN_000182  HIN_000202  HIN_000296   \n4      OG0000004    HIN_000231  HIN_000254  HIN_000347  HIN_000529   \n...          ...           ...         ...         ...         ...   \n29536  OG0029536  KAG9397671.1         NaN         NaN         NaN   \n29537  OG0029537  KAG9397672.1         NaN         NaN         NaN   \n29538  OG0029538  KAG9397674.1         NaN         NaN         NaN   \n29539  OG0029539  KAG9397680.1         NaN         NaN         NaN   \n29540  OG0029540  KAG9397682.1         NaN         NaN         NaN   \n\n             5           6           7           8           9     ...  \\\n0      HIN_000364  HIN_000427  HIN_000432  HIN_000438  HIN_000858  ...   \n1      HIN_000983  HIN_001077  HIN_001083  HIN_001104  HIN_001115  ...   \n2      HIN_000694  HIN_001577  HIN_001631  HIN_001940  HIN_002100  ...   \n3      HIN_001065  HIN_001321  HIN_001851  HIN_002030  HIN_002053  ...   \n4      HIN_000530  HIN_000821  HIN_001109  HIN_001110  HIN_001345  ...   \n...           ...         ...         ...         ...         ...  ...   \n29536         NaN         NaN         NaN         NaN         NaN  ...   \n29537         NaN         NaN         NaN         NaN         NaN  ...   \n29538         NaN         NaN         NaN         NaN         NaN  ...   \n29539         NaN         NaN         NaN         NaN         NaN  ...   \n29540         NaN         NaN         NaN         NaN         NaN  ...   \n\n             1919        1920        1921        1922        1923        1924  \\\n0      HIN_100684  HIN_100687  HIN_100750  HIN_100765  HIN_100769  HIN_100827   \n1             NaN         NaN         NaN         NaN         NaN         NaN   \n2             NaN         NaN         NaN         NaN         NaN         NaN   \n3             NaN         NaN         NaN         NaN         NaN         NaN   \n4             NaN         NaN         NaN         NaN         NaN         NaN   \n...           ...         ...         ...         ...         ...         ...   \n29536         NaN         NaN         NaN         NaN         NaN         NaN   \n29537         NaN         NaN         NaN         NaN         NaN         NaN   \n29538         NaN         NaN         NaN         NaN         NaN         NaN   \n29539         NaN         NaN         NaN         NaN         NaN         NaN   \n29540         NaN         NaN         NaN         NaN         NaN         NaN   \n\n             1925        1926        1927           1928  \n0      HIN_100829  HIN_100978  HIN_100987  SS50377_27566  \n1             NaN         NaN         NaN            NaN  \n2             NaN         NaN         NaN            NaN  \n3             NaN         NaN         NaN            NaN  \n4             NaN         NaN         NaN            NaN  \n...           ...         ...         ...            ...  \n29536         NaN         NaN         NaN            NaN  \n29537         NaN         NaN         NaN            NaN  \n29538         NaN         NaN         NaN            NaN  \n29539         NaN         NaN         NaN            NaN  \n29540         NaN         NaN         NaN            NaN  \n\n[29541 rows x 1929 columns]",
      "text/html": "<div>\n<style scoped>\n    .dataframe tbody tr th:only-of-type {\n        vertical-align: middle;\n    }\n\n    .dataframe tbody tr th {\n        vertical-align: top;\n    }\n\n    .dataframe thead th {\n        text-align: right;\n    }\n</style>\n<table border=\"1\" class=\"dataframe\">\n  <thead>\n    <tr style=\"text-align: right;\">\n      <th></th>\n      <th>0</th>\n      <th>1</th>\n      <th>2</th>\n      <th>3</th>\n      <th>4</th>\n      <th>5</th>\n      <th>6</th>\n      <th>7</th>\n      <th>8</th>\n      <th>9</th>\n      <th>...</th>\n      <th>1919</th>\n      <th>1920</th>\n      <th>1921</th>\n      <th>1922</th>\n      <th>1923</th>\n      <th>1924</th>\n      <th>1925</th>\n      <th>1926</th>\n      <th>1927</th>\n      <th>1928</th>\n    </tr>\n  </thead>\n  <tbody>\n    <tr>\n      <th>0</th>\n      <td>OG0000000</td>\n      <td>HIN_000001</td>\n      <td>HIN_000235</td>\n      <td>HIN_000306</td>\n      <td>HIN_000352</td>\n      <td>HIN_000364</td>\n      <td>HIN_000427</td>\n      <td>HIN_000432</td>\n      <td>HIN_000438</td>\n      <td>HIN_000858</td>\n      <td>...</td>\n      <td>HIN_100684</td>\n      <td>HIN_100687</td>\n      <td>HIN_100750</td>\n      <td>HIN_100765</td>\n      <td>HIN_100769</td>\n      <td>HIN_100827</td>\n      <td>HIN_100829</td>\n      <td>HIN_100978</td>\n      <td>HIN_100987</td>\n      <td>SS50377_27566</td>\n    </tr>\n    <tr>\n      <th>1</th>\n      <td>OG0000001</td>\n      <td>HIN_000385</td>\n      <td>HIN_000552</td>\n      <td>HIN_000598</td>\n      <td>HIN_000601</td>\n      <td>HIN_000983</td>\n      <td>HIN_001077</td>\n      <td>HIN_001083</td>\n      <td>HIN_001104</td>\n      <td>HIN_001115</td>\n      <td>...</td>\n      <td>NaN</td>\n      <td>NaN</td>\n      <td>NaN</td>\n      <td>NaN</td>\n      <td>NaN</td>\n      <td>NaN</td>\n      <td>NaN</td>\n      <td>NaN</td>\n      <td>NaN</td>\n      <td>NaN</td>\n    </tr>\n    <tr>\n      <th>2</th>\n      <td>OG0000002</td>\n      <td>HIN_000061</td>\n      <td>HIN_000190</td>\n      <td>HIN_000209</td>\n      <td>HIN_000233</td>\n      <td>HIN_000694</td>\n      <td>HIN_001577</td>\n      <td>HIN_001631</td>\n      <td>HIN_001940</td>\n      <td>HIN_002100</td>\n      <td>...</td>\n      <td>NaN</td>\n      <td>NaN</td>\n      <td>NaN</td>\n      <td>NaN</td>\n      <td>NaN</td>\n      <td>NaN</td>\n      <td>NaN</td>\n      <td>NaN</td>\n      <td>NaN</td>\n      <td>NaN</td>\n    </tr>\n    <tr>\n      <th>3</th>\n      <td>OG0000003</td>\n      <td>HIN_000155</td>\n      <td>HIN_000182</td>\n      <td>HIN_000202</td>\n      <td>HIN_000296</td>\n      <td>HIN_001065</td>\n      <td>HIN_001321</td>\n      <td>HIN_001851</td>\n      <td>HIN_002030</td>\n      <td>HIN_002053</td>\n      <td>...</td>\n      <td>NaN</td>\n      <td>NaN</td>\n      <td>NaN</td>\n      <td>NaN</td>\n      <td>NaN</td>\n      <td>NaN</td>\n      <td>NaN</td>\n      <td>NaN</td>\n      <td>NaN</td>\n      <td>NaN</td>\n    </tr>\n    <tr>\n      <th>4</th>\n      <td>OG0000004</td>\n      <td>HIN_000231</td>\n      <td>HIN_000254</td>\n      <td>HIN_000347</td>\n      <td>HIN_000529</td>\n      <td>HIN_000530</td>\n      <td>HIN_000821</td>\n      <td>HIN_001109</td>\n      <td>HIN_001110</td>\n      <td>HIN_001345</td>\n      <td>...</td>\n      <td>NaN</td>\n      <td>NaN</td>\n      <td>NaN</td>\n      <td>NaN</td>\n      <td>NaN</td>\n      <td>NaN</td>\n      <td>NaN</td>\n      <td>NaN</td>\n      <td>NaN</td>\n      <td>NaN</td>\n    </tr>\n    <tr>\n      <th>...</th>\n      <td>...</td>\n      <td>...</td>\n      <td>...</td>\n      <td>...</td>\n      <td>...</td>\n      <td>...</td>\n      <td>...</td>\n      <td>...</td>\n      <td>...</td>\n      <td>...</td>\n      <td>...</td>\n      <td>...</td>\n      <td>...</td>\n      <td>...</td>\n      <td>...</td>\n      <td>...</td>\n      <td>...</td>\n      <td>...</td>\n      <td>...</td>\n      <td>...</td>\n      <td>...</td>\n    </tr>\n    <tr>\n      <th>29536</th>\n      <td>OG0029536</td>\n      <td>KAG9397671.1</td>\n      <td>NaN</td>\n      <td>NaN</td>\n      <td>NaN</td>\n      <td>NaN</td>\n      <td>NaN</td>\n      <td>NaN</td>\n      <td>NaN</td>\n      <td>NaN</td>\n      <td>...</td>\n      <td>NaN</td>\n      <td>NaN</td>\n      <td>NaN</td>\n      <td>NaN</td>\n      <td>NaN</td>\n      <td>NaN</td>\n      <td>NaN</td>\n      <td>NaN</td>\n      <td>NaN</td>\n      <td>NaN</td>\n    </tr>\n    <tr>\n      <th>29537</th>\n      <td>OG0029537</td>\n      <td>KAG9397672.1</td>\n      <td>NaN</td>\n      <td>NaN</td>\n      <td>NaN</td>\n      <td>NaN</td>\n      <td>NaN</td>\n      <td>NaN</td>\n      <td>NaN</td>\n      <td>NaN</td>\n      <td>...</td>\n      <td>NaN</td>\n      <td>NaN</td>\n      <td>NaN</td>\n      <td>NaN</td>\n      <td>NaN</td>\n      <td>NaN</td>\n      <td>NaN</td>\n      <td>NaN</td>\n      <td>NaN</td>\n      <td>NaN</td>\n    </tr>\n    <tr>\n      <th>29538</th>\n      <td>OG0029538</td>\n      <td>KAG9397674.1</td>\n      <td>NaN</td>\n      <td>NaN</td>\n      <td>NaN</td>\n      <td>NaN</td>\n      <td>NaN</td>\n      <td>NaN</td>\n      <td>NaN</td>\n      <td>NaN</td>\n      <td>...</td>\n      <td>NaN</td>\n      <td>NaN</td>\n      <td>NaN</td>\n      <td>NaN</td>\n      <td>NaN</td>\n      <td>NaN</td>\n      <td>NaN</td>\n      <td>NaN</td>\n      <td>NaN</td>\n      <td>NaN</td>\n    </tr>\n    <tr>\n      <th>29539</th>\n      <td>OG0029539</td>\n      <td>KAG9397680.1</td>\n      <td>NaN</td>\n      <td>NaN</td>\n      <td>NaN</td>\n      <td>NaN</td>\n      <td>NaN</td>\n      <td>NaN</td>\n      <td>NaN</td>\n      <td>NaN</td>\n      <td>...</td>\n      <td>NaN</td>\n      <td>NaN</td>\n      <td>NaN</td>\n      <td>NaN</td>\n      <td>NaN</td>\n      <td>NaN</td>\n      <td>NaN</td>\n      <td>NaN</td>\n      <td>NaN</td>\n      <td>NaN</td>\n    </tr>\n    <tr>\n      <th>29540</th>\n      <td>OG0029540</td>\n      <td>KAG9397682.1</td>\n      <td>NaN</td>\n      <td>NaN</td>\n      <td>NaN</td>\n      <td>NaN</td>\n      <td>NaN</td>\n      <td>NaN</td>\n      <td>NaN</td>\n      <td>NaN</td>\n      <td>...</td>\n      <td>NaN</td>\n      <td>NaN</td>\n      <td>NaN</td>\n      <td>NaN</td>\n      <td>NaN</td>\n      <td>NaN</td>\n      <td>NaN</td>\n      <td>NaN</td>\n      <td>NaN</td>\n      <td>NaN</td>\n    </tr>\n  </tbody>\n</table>\n<p>29541 rows × 1929 columns</p>\n</div>"
     },
     "execution_count": 5,
     "metadata": {},
     "output_type": "execute_result"
    }
   ],
   "source": [
    "import pandas as pd\n",
    "\n",
    "OG_gene_list=pd.read_csv('/Users/zeyku390/PycharmProjects/H.inflata/output/1_orthofinder/Results_Oct10_7sp/Orthogroups/Orthogroups.txt', header=None, dtype=str, delim_whitespace=True)\n",
    "OG_gene_list=OG_gene_list.apply(lambda x: x.str.replace(\":\", \"\"))\n",
    "OG_gene_list"
   ],
   "metadata": {
    "collapsed": false,
    "pycharm": {
     "name": "#%%\n"
    }
   }
  },
  {
   "cell_type": "code",
   "execution_count": 20,
   "outputs": [
    {
     "data": {
      "text/plain": "0          OG0000005      OG0000019       OG0000039       OG0000042  \\\n1     GL50803_101397  GL50803_10217  GL50803_115052  GL50803_112729   \n2     GL50803_102034  GL50803_14019   GL50803_17132   GL50803_13797   \n3     GL50803_102813  GL50803_15564  GL50803_221689   GL50803_13825   \n4     GL50803_103807  GL50803_16160   GL50803_28379   GL50803_15134   \n5      GL50803_10573  GL50803_16468      GMRT_11508   GL50803_15962   \n...              ...            ...             ...             ...   \n1924             NaN            NaN             NaN             NaN   \n1925             NaN            NaN             NaN             NaN   \n1926             NaN            NaN             NaN             NaN   \n1927             NaN            NaN             NaN             NaN   \n1928             NaN            NaN             NaN             NaN   \n\n0         OG0000057      OG0000072      OG0000086      OG0000090  \\\n1     GL50803_15477  GL50803_16283  GL50803_13231  GL50803_15097   \n2     GL50803_29490   GL50803_6000  GL50803_16411     GMRT_10288   \n3      GL50803_4563  GL50803_61047     GMRT_13622     HIN_001559   \n4      GL50803_5534  GL50803_91295     GMRT_14177     HIN_001615   \n5      GL50803_8903  GL50803_91712     HIN_002761     HIN_001622   \n...             ...            ...            ...            ...   \n1924            NaN            NaN            NaN            NaN   \n1925            NaN            NaN            NaN            NaN   \n1926            NaN            NaN            NaN            NaN   \n1927            NaN            NaN            NaN            NaN   \n1928            NaN            NaN            NaN            NaN   \n\n0          OG0000093      OG0000099  ...      OG0004920      OG0004927  \\\n1     GL50803_103713  GL50803_16815  ...   GL50803_5603   GL50803_8604   \n2      GL50803_14670   GL50803_8044  ...     GMRT_10909     GMRT_12712   \n3       GL50803_8064     GMRT_10547  ...     HIN_065946     HIN_066682   \n4       GL50803_9413     HIN_002143  ...     HIN_070852     HIN_078130   \n5         GMRT_12939     HIN_003532  ...  SS50377_23242  SS50377_21232   \n...              ...            ...  ...            ...            ...   \n1924             NaN            NaN  ...            NaN            NaN   \n1925             NaN            NaN  ...            NaN            NaN   \n1926             NaN            NaN  ...            NaN            NaN   \n1927             NaN            NaN  ...            NaN            NaN   \n1928             NaN            NaN  ...            NaN            NaN   \n\n0         OG0004928      OG0004930      OG0004939      OG0004963  \\\n1     GL50803_11557  GL50803_11771  GL50803_16192  GL50803_14054   \n2        GMRT_15190     GMRT_15517     GMRT_13762     GMRT_14394   \n3        HIN_066689     HIN_066967     HIN_070252     HIN_090757   \n4        HIN_078124     HIN_094476     HIN_093955     HIN_093023   \n5     SS50377_23334  SS50377_23592  SS50377_28224  SS50377_25390   \n...             ...            ...            ...            ...   \n1924            NaN            NaN            NaN            NaN   \n1925            NaN            NaN            NaN            NaN   \n1926            NaN            NaN            NaN            NaN   \n1927            NaN            NaN            NaN            NaN   \n1928            NaN            NaN            NaN            NaN   \n\n0         OG0004964      OG0004967      OG0006008      OG0006077  \n1      GL50803_8135  GL50803_17280   GL50803_9427  GL50803_16926  \n2        GMRT_13346     GMRT_14388     GMRT_13197     GMRT_10817  \n3        HIN_090772     HIN_093020     HIN_059843     HIN_097892  \n4        HIN_093860  SS50377_24151  SS50377_21191  SS50377_25538  \n5     SS50377_28335  SS50377_24154     TPC1_11163     TPC1_16186  \n...             ...            ...            ...            ...  \n1924            NaN            NaN            NaN            NaN  \n1925            NaN            NaN            NaN            NaN  \n1926            NaN            NaN            NaN            NaN  \n1927            NaN            NaN            NaN            NaN  \n1928            NaN            NaN            NaN            NaN  \n\n[1928 rows x 1662 columns]",
      "text/html": "<div>\n<style scoped>\n    .dataframe tbody tr th:only-of-type {\n        vertical-align: middle;\n    }\n\n    .dataframe tbody tr th {\n        vertical-align: top;\n    }\n\n    .dataframe thead th {\n        text-align: right;\n    }\n</style>\n<table border=\"1\" class=\"dataframe\">\n  <thead>\n    <tr style=\"text-align: right;\">\n      <th></th>\n      <th>OG0000005</th>\n      <th>OG0000019</th>\n      <th>OG0000039</th>\n      <th>OG0000042</th>\n      <th>OG0000057</th>\n      <th>OG0000072</th>\n      <th>OG0000086</th>\n      <th>OG0000090</th>\n      <th>OG0000093</th>\n      <th>OG0000099</th>\n      <th>...</th>\n      <th>OG0004920</th>\n      <th>OG0004927</th>\n      <th>OG0004928</th>\n      <th>OG0004930</th>\n      <th>OG0004939</th>\n      <th>OG0004963</th>\n      <th>OG0004964</th>\n      <th>OG0004967</th>\n      <th>OG0006008</th>\n      <th>OG0006077</th>\n    </tr>\n  </thead>\n  <tbody>\n    <tr>\n      <th>1</th>\n      <td>GL50803_101397</td>\n      <td>GL50803_10217</td>\n      <td>GL50803_115052</td>\n      <td>GL50803_112729</td>\n      <td>GL50803_15477</td>\n      <td>GL50803_16283</td>\n      <td>GL50803_13231</td>\n      <td>GL50803_15097</td>\n      <td>GL50803_103713</td>\n      <td>GL50803_16815</td>\n      <td>...</td>\n      <td>GL50803_5603</td>\n      <td>GL50803_8604</td>\n      <td>GL50803_11557</td>\n      <td>GL50803_11771</td>\n      <td>GL50803_16192</td>\n      <td>GL50803_14054</td>\n      <td>GL50803_8135</td>\n      <td>GL50803_17280</td>\n      <td>GL50803_9427</td>\n      <td>GL50803_16926</td>\n    </tr>\n    <tr>\n      <th>2</th>\n      <td>GL50803_102034</td>\n      <td>GL50803_14019</td>\n      <td>GL50803_17132</td>\n      <td>GL50803_13797</td>\n      <td>GL50803_29490</td>\n      <td>GL50803_6000</td>\n      <td>GL50803_16411</td>\n      <td>GMRT_10288</td>\n      <td>GL50803_14670</td>\n      <td>GL50803_8044</td>\n      <td>...</td>\n      <td>GMRT_10909</td>\n      <td>GMRT_12712</td>\n      <td>GMRT_15190</td>\n      <td>GMRT_15517</td>\n      <td>GMRT_13762</td>\n      <td>GMRT_14394</td>\n      <td>GMRT_13346</td>\n      <td>GMRT_14388</td>\n      <td>GMRT_13197</td>\n      <td>GMRT_10817</td>\n    </tr>\n    <tr>\n      <th>3</th>\n      <td>GL50803_102813</td>\n      <td>GL50803_15564</td>\n      <td>GL50803_221689</td>\n      <td>GL50803_13825</td>\n      <td>GL50803_4563</td>\n      <td>GL50803_61047</td>\n      <td>GMRT_13622</td>\n      <td>HIN_001559</td>\n      <td>GL50803_8064</td>\n      <td>GMRT_10547</td>\n      <td>...</td>\n      <td>HIN_065946</td>\n      <td>HIN_066682</td>\n      <td>HIN_066689</td>\n      <td>HIN_066967</td>\n      <td>HIN_070252</td>\n      <td>HIN_090757</td>\n      <td>HIN_090772</td>\n      <td>HIN_093020</td>\n      <td>HIN_059843</td>\n      <td>HIN_097892</td>\n    </tr>\n    <tr>\n      <th>4</th>\n      <td>GL50803_103807</td>\n      <td>GL50803_16160</td>\n      <td>GL50803_28379</td>\n      <td>GL50803_15134</td>\n      <td>GL50803_5534</td>\n      <td>GL50803_91295</td>\n      <td>GMRT_14177</td>\n      <td>HIN_001615</td>\n      <td>GL50803_9413</td>\n      <td>HIN_002143</td>\n      <td>...</td>\n      <td>HIN_070852</td>\n      <td>HIN_078130</td>\n      <td>HIN_078124</td>\n      <td>HIN_094476</td>\n      <td>HIN_093955</td>\n      <td>HIN_093023</td>\n      <td>HIN_093860</td>\n      <td>SS50377_24151</td>\n      <td>SS50377_21191</td>\n      <td>SS50377_25538</td>\n    </tr>\n    <tr>\n      <th>5</th>\n      <td>GL50803_10573</td>\n      <td>GL50803_16468</td>\n      <td>GMRT_11508</td>\n      <td>GL50803_15962</td>\n      <td>GL50803_8903</td>\n      <td>GL50803_91712</td>\n      <td>HIN_002761</td>\n      <td>HIN_001622</td>\n      <td>GMRT_12939</td>\n      <td>HIN_003532</td>\n      <td>...</td>\n      <td>SS50377_23242</td>\n      <td>SS50377_21232</td>\n      <td>SS50377_23334</td>\n      <td>SS50377_23592</td>\n      <td>SS50377_28224</td>\n      <td>SS50377_25390</td>\n      <td>SS50377_28335</td>\n      <td>SS50377_24154</td>\n      <td>TPC1_11163</td>\n      <td>TPC1_16186</td>\n    </tr>\n    <tr>\n      <th>...</th>\n      <td>...</td>\n      <td>...</td>\n      <td>...</td>\n      <td>...</td>\n      <td>...</td>\n      <td>...</td>\n      <td>...</td>\n      <td>...</td>\n      <td>...</td>\n      <td>...</td>\n      <td>...</td>\n      <td>...</td>\n      <td>...</td>\n      <td>...</td>\n      <td>...</td>\n      <td>...</td>\n      <td>...</td>\n      <td>...</td>\n      <td>...</td>\n      <td>...</td>\n      <td>...</td>\n    </tr>\n    <tr>\n      <th>1924</th>\n      <td>NaN</td>\n      <td>NaN</td>\n      <td>NaN</td>\n      <td>NaN</td>\n      <td>NaN</td>\n      <td>NaN</td>\n      <td>NaN</td>\n      <td>NaN</td>\n      <td>NaN</td>\n      <td>NaN</td>\n      <td>...</td>\n      <td>NaN</td>\n      <td>NaN</td>\n      <td>NaN</td>\n      <td>NaN</td>\n      <td>NaN</td>\n      <td>NaN</td>\n      <td>NaN</td>\n      <td>NaN</td>\n      <td>NaN</td>\n      <td>NaN</td>\n    </tr>\n    <tr>\n      <th>1925</th>\n      <td>NaN</td>\n      <td>NaN</td>\n      <td>NaN</td>\n      <td>NaN</td>\n      <td>NaN</td>\n      <td>NaN</td>\n      <td>NaN</td>\n      <td>NaN</td>\n      <td>NaN</td>\n      <td>NaN</td>\n      <td>...</td>\n      <td>NaN</td>\n      <td>NaN</td>\n      <td>NaN</td>\n      <td>NaN</td>\n      <td>NaN</td>\n      <td>NaN</td>\n      <td>NaN</td>\n      <td>NaN</td>\n      <td>NaN</td>\n      <td>NaN</td>\n    </tr>\n    <tr>\n      <th>1926</th>\n      <td>NaN</td>\n      <td>NaN</td>\n      <td>NaN</td>\n      <td>NaN</td>\n      <td>NaN</td>\n      <td>NaN</td>\n      <td>NaN</td>\n      <td>NaN</td>\n      <td>NaN</td>\n      <td>NaN</td>\n      <td>...</td>\n      <td>NaN</td>\n      <td>NaN</td>\n      <td>NaN</td>\n      <td>NaN</td>\n      <td>NaN</td>\n      <td>NaN</td>\n      <td>NaN</td>\n      <td>NaN</td>\n      <td>NaN</td>\n      <td>NaN</td>\n    </tr>\n    <tr>\n      <th>1927</th>\n      <td>NaN</td>\n      <td>NaN</td>\n      <td>NaN</td>\n      <td>NaN</td>\n      <td>NaN</td>\n      <td>NaN</td>\n      <td>NaN</td>\n      <td>NaN</td>\n      <td>NaN</td>\n      <td>NaN</td>\n      <td>...</td>\n      <td>NaN</td>\n      <td>NaN</td>\n      <td>NaN</td>\n      <td>NaN</td>\n      <td>NaN</td>\n      <td>NaN</td>\n      <td>NaN</td>\n      <td>NaN</td>\n      <td>NaN</td>\n      <td>NaN</td>\n    </tr>\n    <tr>\n      <th>1928</th>\n      <td>NaN</td>\n      <td>NaN</td>\n      <td>NaN</td>\n      <td>NaN</td>\n      <td>NaN</td>\n      <td>NaN</td>\n      <td>NaN</td>\n      <td>NaN</td>\n      <td>NaN</td>\n      <td>NaN</td>\n      <td>...</td>\n      <td>NaN</td>\n      <td>NaN</td>\n      <td>NaN</td>\n      <td>NaN</td>\n      <td>NaN</td>\n      <td>NaN</td>\n      <td>NaN</td>\n      <td>NaN</td>\n      <td>NaN</td>\n      <td>NaN</td>\n    </tr>\n  </tbody>\n</table>\n<p>1928 rows × 1662 columns</p>\n</div>"
     },
     "execution_count": 20,
     "metadata": {},
     "output_type": "execute_result"
    }
   ],
   "source": [
    "\"extract proteins from OG\"\n",
    "\n",
    "def extract_prot(OG_list):\n",
    "    df=pd.merge(OG_gene_list, OG_list[\"Orthogroup\"], right_on=\"Orthogroup\", left_on=0).drop(columns=\"Orthogroup\").set_index(0)\n",
    "    return df\n",
    "\n",
    "extract_prot(og_diplo).T"
   ],
   "metadata": {
    "collapsed": false,
    "pycharm": {
     "name": "#%%\n"
    }
   }
  },
  {
   "cell_type": "code",
   "execution_count": null,
   "outputs": [],
   "source": [],
   "metadata": {
    "collapsed": false,
    "pycharm": {
     "name": "#%%\n"
    }
   }
  }
 ],
 "metadata": {
  "kernelspec": {
   "display_name": "Python 3",
   "language": "python",
   "name": "python3"
  },
  "language_info": {
   "codemirror_mode": {
    "name": "ipython",
    "version": 2
   },
   "file_extension": ".py",
   "mimetype": "text/x-python",
   "name": "python",
   "nbconvert_exporter": "python",
   "pygments_lexer": "ipython2",
   "version": "2.7.6"
  }
 },
 "nbformat": 4,
 "nbformat_minor": 0
}