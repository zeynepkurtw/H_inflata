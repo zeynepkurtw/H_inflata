{
 "cells": [
  {
   "cell_type": "code",
   "execution_count": null,
   "metadata": {
    "collapsed": true,
    "pycharm": {
     "name": "#%%\n"
    }
   },
   "outputs": [],
   "source": []
  },
  {
   "cell_type": "code",
   "execution_count": null,
   "outputs": [],
   "source": [
    "import pandas as pd\n",
    "from Bio import SeqIO\n",
    "import glob\n",
    "\n",
    "path = '/Users/zeyku390/PycharmProjects/data/proteome/*.fa'\n",
    "list_files = glob.glob(path)\n",
    "\n",
    "#get species name from the filenames\n",
    "sp_dic = {}\n",
    "for element in list_files:\n",
    "    i = element.split(\".\")[0]\n",
    "    i = i.split(\"/\")[-1]\n",
    "    sp_dic[i] = element\n",
    "\n",
    "def get_annot( fasta ):\n",
    "    \"\"\"\n",
    "    Get a list of genes with annotations from fasta.\n",
    "    :param old: FASTA file with annotations.\n",
    "    :return: df with gene id and annotations\n",
    "    \"\"\"\n",
    "\n",
    "    id= []\n",
    "    annot= []\n",
    "    with open(fasta, \"r\") as fasta_in:\n",
    "        for record in SeqIO.parse(fasta_in, \"fasta\"):\n",
    "            id.append(record.id)\n",
    "            annot.append(record.description)\n",
    "            df = pd.DataFrame(list(zip(id, annot)), columns=[\"id\", \"desc\"])\n",
    "            #df[\"annot\"] = df.apply( lambda x: x[\"desc\"].replace(x[\"id\"], \"\").strip(), axis=1)\n",
    "\n",
    "    return df\n",
    "\n",
    "#create dictinary for each species with its annotation\n",
    "dic = {}\n",
    "for key, value in sp_dic.items():\n",
    "    dic[key] = value"
   ],
   "metadata": {
    "collapsed": false,
    "pycharm": {
     "name": "#%%\n"
    }
   }
  },
  {
   "cell_type": "code",
   "execution_count": null,
   "outputs": [],
   "source": [
    "get_annot(dic[\"wb\"])"
   ],
   "metadata": {
    "collapsed": false,
    "pycharm": {
     "name": "#%%\n"
    }
   }
  },
  {
   "cell_type": "code",
   "execution_count": 11,
   "outputs": [],
   "source": [
    "dic = {}\n",
    "for key, value in sp_dic.items():\n",
    "    dic[key] = value"
   ],
   "metadata": {
    "collapsed": false,
    "pycharm": {
     "name": "#%%\n"
    }
   }
  },
  {
   "cell_type": "code",
   "execution_count": 15,
   "outputs": [
    {
     "data": {
      "text/plain": "'/Users/zeyku390/PycharmProjects/data/proteome/spiro.fa'"
     },
     "execution_count": 15,
     "metadata": {},
     "output_type": "execute_result"
    }
   ],
   "source": [
    "dic[key]"
   ],
   "metadata": {
    "collapsed": false,
    "pycharm": {
     "name": "#%%\n"
    }
   }
  },
  {
   "cell_type": "code",
   "execution_count": 16,
   "outputs": [
    {
     "data": {
      "text/plain": "'spiro'"
     },
     "execution_count": 16,
     "metadata": {},
     "output_type": "execute_result"
    }
   ],
   "source": [
    "key"
   ],
   "metadata": {
    "collapsed": false,
    "pycharm": {
     "name": "#%%\n"
    }
   }
  },
  {
   "cell_type": "code",
   "execution_count": null,
   "outputs": [],
   "source": [],
   "metadata": {
    "collapsed": false,
    "pycharm": {
     "name": "#%%\n"
    }
   }
  }
 ],
 "metadata": {
  "kernelspec": {
   "display_name": "Python 3",
   "language": "python",
   "name": "python3"
  },
  "language_info": {
   "codemirror_mode": {
    "name": "ipython",
    "version": 2
   },
   "file_extension": ".py",
   "mimetype": "text/x-python",
   "name": "python",
   "nbconvert_exporter": "python",
   "pygments_lexer": "ipython2",
   "version": "2.7.6"
  }
 },
 "nbformat": 4,
 "nbformat_minor": 0
}